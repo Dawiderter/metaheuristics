{
 "cells": [
  {
   "cell_type": "code",
   "execution_count": 2,
   "metadata": {},
   "outputs": [],
   "source": [
    "using Plots"
   ]
  },
  {
   "cell_type": "code",
   "execution_count": 6,
   "metadata": {},
   "outputs": [
    {
     "data": {
      "text/plain": [
       "animate_cycle (generic function with 1 method)"
      ]
     },
     "metadata": {},
     "output_type": "display_data"
    }
   ],
   "source": [
    "function animate_cycle(name)\n",
    "    lines = readlines(\"./results/three/$(name)\")\n",
    "    \n",
    "    x_data = []\n",
    "    y_data = []\n",
    "    for line in lines \n",
    "        n, x, y = [parse(Int, d) for d in split(line)]\n",
    "        push!(x_data, x)\n",
    "        push!(y_data, y)\n",
    "    end\n",
    "    \n",
    "    plt = plot(x_data, y_data, marker = 2, lw = 1, legend = false, title = name, dpi = 200, size = (600, 600))\n",
    "    plot!(plt, [], [], marker = 3, lw = 2)\n",
    "\n",
    "    anim = @animate for line in lines\n",
    "        n, x, y = [parse(Int, d) for d in split(line)]\n",
    "        push!(plt, [NaN, Float64(x)], [NaN, Float64(y)])\n",
    "    end fps=8\n",
    "\n",
    "    gif(anim, \"plots/three/$(name).gif\")\n",
    "end"
   ]
  },
  {
   "cell_type": "code",
   "execution_count": 4,
   "metadata": {},
   "outputs": [
    {
     "data": {
      "text/plain": [
       "10-element Vector{String}:\n",
       " \"xqf131\"\n",
       " \"xqg237\"\n",
       " \"pma343\"\n",
       " \"pka379\"\n",
       " \"bcl380\"\n",
       " \"pbl395\"\n",
       " \"pbk411\"\n",
       " \"pbn423\"\n",
       " \"pbm436\"\n",
       " \"xql662\""
      ]
     },
     "metadata": {},
     "output_type": "display_data"
    }
   ],
   "source": [
    "names = [\n",
    "    \"xqf131\", \"xqg237\", \"pma343\", \"pka379\", \"bcl380\", \"pbl395\", \"pbk411\", \"pbn423\", \"pbm436\", \"xql662\", #\"xit1083\", \"icw1483\", \"djc1785\", \"dcb2086\", \"pds2566\"\n",
    "]"
   ]
  },
  {
   "cell_type": "code",
   "execution_count": 7,
   "metadata": {},
   "outputs": [
    {
     "name": "stderr",
     "output_type": "stream",
     "text": [
      "┌ Info: Saved animation to /home/dawiderter/Projects/Studies/metaheuristics/local_search/plots/three/xqf131.gif\n",
      "└ @ Plots /home/dawiderter/.julia/packages/Plots/sxUvK/src/animation.jl:156\n"
     ]
    },
    {
     "name": "stderr",
     "output_type": "stream",
     "text": [
      "┌ Info: Saved animation to /home/dawiderter/Projects/Studies/metaheuristics/local_search/plots/three/xqg237.gif\n",
      "└ @ Plots /home/dawiderter/.julia/packages/Plots/sxUvK/src/animation.jl:156\n"
     ]
    },
    {
     "name": "stderr",
     "output_type": "stream",
     "text": [
      "┌ Info: Saved animation to /home/dawiderter/Projects/Studies/metaheuristics/local_search/plots/three/pma343.gif\n",
      "└ @ Plots /home/dawiderter/.julia/packages/Plots/sxUvK/src/animation.jl:156\n"
     ]
    },
    {
     "name": "stderr",
     "output_type": "stream",
     "text": [
      "┌ Info: Saved animation to /home/dawiderter/Projects/Studies/metaheuristics/local_search/plots/three/pka379.gif\n",
      "└ @ Plots /home/dawiderter/.julia/packages/Plots/sxUvK/src/animation.jl:156\n"
     ]
    },
    {
     "name": "stderr",
     "output_type": "stream",
     "text": [
      "┌ Info: Saved animation to /home/dawiderter/Projects/Studies/metaheuristics/local_search/plots/three/bcl380.gif\n",
      "└ @ Plots /home/dawiderter/.julia/packages/Plots/sxUvK/src/animation.jl:156\n"
     ]
    },
    {
     "name": "stderr",
     "output_type": "stream",
     "text": [
      "┌ Info: Saved animation to /home/dawiderter/Projects/Studies/metaheuristics/local_search/plots/three/pbl395.gif\n",
      "└ @ Plots /home/dawiderter/.julia/packages/Plots/sxUvK/src/animation.jl:156\n"
     ]
    },
    {
     "name": "stderr",
     "output_type": "stream",
     "text": [
      "┌ Info: Saved animation to /home/dawiderter/Projects/Studies/metaheuristics/local_search/plots/three/pbk411.gif\n",
      "└ @ Plots /home/dawiderter/.julia/packages/Plots/sxUvK/src/animation.jl:156\n"
     ]
    },
    {
     "name": "stderr",
     "output_type": "stream",
     "text": [
      "┌ Info: Saved animation to /home/dawiderter/Projects/Studies/metaheuristics/local_search/plots/three/pbn423.gif\n",
      "└ @ Plots /home/dawiderter/.julia/packages/Plots/sxUvK/src/animation.jl:156\n"
     ]
    },
    {
     "name": "stderr",
     "output_type": "stream",
     "text": [
      "┌ Info: Saved animation to /home/dawiderter/Projects/Studies/metaheuristics/local_search/plots/three/pbm436.gif\n",
      "└ @ Plots /home/dawiderter/.julia/packages/Plots/sxUvK/src/animation.jl:156\n"
     ]
    },
    {
     "name": "stderr",
     "output_type": "stream",
     "text": [
      "┌ Info: Saved animation to /home/dawiderter/Projects/Studies/metaheuristics/local_search/plots/three/xql662.gif\n",
      "└ @ Plots /home/dawiderter/.julia/packages/Plots/sxUvK/src/animation.jl:156\n"
     ]
    }
   ],
   "source": [
    "for name in names\n",
    "    animate_cycle(name)\n",
    "end"
   ]
  },
  {
   "cell_type": "code",
   "execution_count": 11,
   "metadata": {},
   "outputs": [
    {
     "name": "stdout",
     "output_type": "stream",
     "text": [
      "|Test|Optymalna ścieżka|Waga MST|Najmniejszy znaleziony cykl|Średnia długość cykli|Średnia liczba popraw|\n",
      "|------|------|------|------|------|------|\n",
      "|xqf131|564|474|597|616.0|27.73|\n",
      "|xqg237|1019|897|1057|1093.0|41.27|\n",
      "|pma343|1368|1179|1444|1470.44|74.11|\n",
      "|pka379|1332|1151|1394|1411.74|82.79|\n",
      "|bcl380|1621|1444|1727|1776.84|61.16|\n",
      "|pbl395|1281|1124|1349|1373.32|84.05|\n",
      "|pbk411|1343|1180|1414|1430.8|88.05|\n",
      "|pbn423|1365|1201|1448|1471.15|90.65|\n",
      "|pbm436|1443|1269|1545|1567.8|104.4|\n",
      "|xql662|2513|2240|2691|2730.32|137.68|\n",
      "|xit1083|3558|3253|3833|3888.22|206.19|\n",
      "|icw1483|4416|4015|4792|4833.74|286.66|\n",
      "|djc1785|6115|5541|6471|6520.79|385.02|\n",
      "|dcb2086|6600|5950|7087|7152.22|419.42|\n",
      "|pds2566|xxx|6956|8216|8291.22|471.38|\n"
     ]
    }
   ],
   "source": [
    "lines = readlines(\"./raport_one.txt\")\n",
    "    \n",
    "optimal_data = []\n",
    "mst_data = []\n",
    "minimal_data = []\n",
    "avg_imp_data = []\n",
    "avg_len_data = []\n",
    "for line in lines \n",
    "    m = match(r\"Optimal length: ([0-9]*)\", line)\n",
    "    if m != nothing\n",
    "        value = parse(Int, m[1])\n",
    "        push!(optimal_data, value)\n",
    "        continue\n",
    "    end\n",
    "\n",
    "    m = match(r\"MST length: ([0-9]*)\", line)\n",
    "    if m != nothing\n",
    "        value = parse(Int, m[1])\n",
    "        push!(mst_data, value)\n",
    "        continue\n",
    "    end\n",
    "\n",
    "    m = match(r\"Minimal found length: ([0-9]*)\", line)\n",
    "    if m != nothing\n",
    "        value = parse(Int, m[1])\n",
    "        push!(minimal_data, value)\n",
    "        continue\n",
    "    end\n",
    "\n",
    "    m = match(r\"Avg improvements: ([0-9]*\\.?[0-9]*)\", line)\n",
    "    if m != nothing\n",
    "        value = round(parse(Float32, m[1]); digits = 2)\n",
    "        push!(avg_imp_data, value)\n",
    "        continue\n",
    "    end\n",
    "\n",
    "    m = match(r\"Avg length: ([0-9]*\\.?[0-9]*)\", line)\n",
    "    if m != nothing\n",
    "        value = round(parse(Float32, m[1]); digits = 2)\n",
    "        push!(avg_len_data, value)\n",
    "        continue\n",
    "    end\n",
    "end\n",
    "push!(optimal_data, \"xxx\")\n",
    "\n",
    "println(\"|Test|Optymalna ścieżka|Waga MST|Najmniejszy znaleziony cykl|Średnia długość cykli|Średnia liczba popraw|\")\n",
    "println(\"|------|------|------|------|------|------|\")\n",
    "for i in 1:length(optimal_data)\n",
    "    println(\"|$(names[i])|$(optimal_data[i])|$(mst_data[i])|$(minimal_data[i])|$(avg_len_data[i])|$(avg_imp_data[i])|\")\n",
    "end\n"
   ]
  },
  {
   "cell_type": "code",
   "execution_count": 51,
   "metadata": {},
   "outputs": [
    {
     "name": "stdout",
     "output_type": "stream",
     "text": [
      "|Test|Optymalna ścieżka|Najmniejszy znaleziony cykl|Średnia długość cykli|Średnia liczba popraw|\n",
      "|------|------|------|------|------|\n",
      "|xqf131|564|572|611.84|132.92|\n",
      "|xqg237|1019|1066|1116.87|260.37|\n",
      "|pma343|1368|1427|1482.43|404.08|\n",
      "|pka379|1332|1398|1446.53|447.93|\n",
      "|bcl380|1621|1712|1816.55|448.48|\n",
      "|pbl395|1281|1346|1427.07|459.17|\n",
      "|pbk411|1343|1416|1489.8|483.69|\n",
      "|pbn423|1365|1454|1521.0|497.03|\n",
      "|pbm436|1443|1532|1609.67|512.93|\n",
      "|xql662|2513|2701|2814.83|810.97|\n",
      "|xit1083|3558|3934|4017.41|1385.03|\n",
      "|icw1483|4416|4866|4981.9|1926.87|\n",
      "|djc1785|6115|6741|6871.49|2348.5|\n",
      "|dcb2086|6600|7344|7472.49|2794.36|\n",
      "|pds2566|xxx|8511|8677.17|3489.37|\n"
     ]
    }
   ],
   "source": [
    "lines = readlines(\"./raport_two.txt\")\n",
    "    \n",
    "optimal_data = []\n",
    "minimal_data = []\n",
    "avg_imp_data = []\n",
    "avg_len_data = []\n",
    "for line in lines \n",
    "    m = match(r\"Optimal length: ([0-9]*)\", line)\n",
    "    if m != nothing\n",
    "        value = parse(Int, m[1])\n",
    "        push!(optimal_data, value)\n",
    "        continue\n",
    "    end\n",
    "\n",
    "    m = match(r\"Minimal found length: ([0-9]*)\", line)\n",
    "    if m != nothing\n",
    "        value = parse(Int, m[1])\n",
    "        push!(minimal_data, value)\n",
    "        continue\n",
    "    end\n",
    "\n",
    "    m = match(r\"Avg improvements: ([0-9]*\\.?[0-9]*)\", line)\n",
    "    if m != nothing\n",
    "        value = round(parse(Float32, m[1]); digits = 2)\n",
    "        push!(avg_imp_data, value)\n",
    "        continue\n",
    "    end\n",
    "\n",
    "    m = match(r\"Avg length: ([0-9]*\\.?[0-9]*)\", line)\n",
    "    if m != nothing\n",
    "        value = round(parse(Float32, m[1]); digits = 2)\n",
    "        push!(avg_len_data, value)\n",
    "        continue\n",
    "    end\n",
    "end\n",
    "push!(optimal_data, \"xxx\")\n",
    "\n",
    "println(\"|Test|Optymalna ścieżka|Najmniejszy znaleziony cykl|Średnia długość cykli|Średnia liczba popraw|\")\n",
    "println(\"|------|------|------|------|------|\")\n",
    "for i in 1:length(optimal_data)\n",
    "    println(\"|$(names[i])|$(optimal_data[i])|$(minimal_data[i])|$(avg_len_data[i])|$(avg_imp_data[i])|\")\n",
    "end"
   ]
  },
  {
   "cell_type": "code",
   "execution_count": 49,
   "metadata": {},
   "outputs": [
    {
     "data": {
      "text/plain": [
       "\"/home/dawiderter/Projects/Studies/metaheuristics/local_search/example1.png\""
      ]
     },
     "metadata": {},
     "output_type": "display_data"
    }
   ],
   "source": [
    "using Plots\n",
    "plot([0, 1, 1, 0, 0], [0, 0, 1, 1, 0],legend=false, frame=:none, size = (400,400))\n",
    "xlims!(0.0,1.1)\n",
    "annotate!(-0.05,0.05, \"a\")\n",
    "annotate!(0.05,0.5, \"1\")\n",
    "annotate!(1 + 0.05,0.05, \"b\")\n",
    "annotate!(1 - 0.05,0.5, \"1\")\n",
    "annotate!(1 + 0.05,1 - 0.05, \"c\")\n",
    "annotate!(0.5,1 - 0.05, \"1\")\n",
    "annotate!(-0.05,1 - 0.05, \"d\")\n",
    "annotate!(0.5,0.05, \"1\")\n",
    "\n",
    "savefig(\"example1.png\")"
   ]
  },
  {
   "cell_type": "code",
   "execution_count": 50,
   "metadata": {},
   "outputs": [
    {
     "data": {
      "text/plain": [
       "\"/home/dawiderter/Projects/Studies/metaheuristics/local_search/example2.png\""
      ]
     },
     "metadata": {},
     "output_type": "display_data"
    }
   ],
   "source": [
    "using Plots\n",
    "plot([0, 1, 0, 1, 0], [0, 0, 1, 1, 0],legend=false, frame=:none, size = (400,400))\n",
    "xlims!(0.0,1.1)\n",
    "annotate!(-0.05,0.05, \"a\")\n",
    "annotate!(0.25,0.6, \"1.42...\")\n",
    "annotate!(1 + 0.05,0.05, \"b\")\n",
    "annotate!(0.75,0.6, \"1.42...\")\n",
    "annotate!(1 + 0.05,1 - 0.05, \"c\")\n",
    "annotate!(0.5,1 - 0.05, \"1\")\n",
    "annotate!(-0.05,1 - 0.05, \"d\")\n",
    "annotate!(0.5,0.05, \"1\")\n",
    "\n",
    "savefig(\"example2.png\")"
   ]
  }
 ],
 "metadata": {
  "kernelspec": {
   "display_name": "Julia 1.9.3",
   "language": "julia",
   "name": "julia-1.9"
  },
  "language_info": {
   "file_extension": ".jl",
   "mimetype": "application/julia",
   "name": "julia",
   "version": "1.9.3"
  }
 },
 "nbformat": 4,
 "nbformat_minor": 2
}
