{
 "cells": [
  {
   "cell_type": "code",
   "execution_count": 1,
   "metadata": {},
   "outputs": [],
   "source": [
    "using Plots"
   ]
  },
  {
   "cell_type": "code",
   "execution_count": 2,
   "metadata": {},
   "outputs": [
    {
     "data": {
      "text/plain": [
       "animate_cycle (generic function with 1 method)"
      ]
     },
     "metadata": {},
     "output_type": "display_data"
    }
   ],
   "source": [
    "function animate_cycle(name)\n",
    "    lines = readlines(\"./results/$(name)\")\n",
    "    \n",
    "    x_data = []\n",
    "    y_data = []\n",
    "    for line in lines \n",
    "        n, x, y = [parse(Int, d) for d in split(line)]\n",
    "        push!(x_data, x)\n",
    "        push!(y_data, y)\n",
    "    end\n",
    "    \n",
    "    plt = plot(x_data, y_data, marker = 2, lw = 1, legend = false, title = name, dpi = 300)\n",
    "    plot!(plt, [], [], marker = 3, lw = 2)\n",
    "\n",
    "    anim = @animate for line in lines\n",
    "        n, x, y = [parse(Int, d) for d in split(line)]\n",
    "        push!(plt, [NaN, Float64(x), [NaN, Float64(y)])\n",
    "    end fps=8\n",
    "\n",
    "    gif(anim, \"plots/$(name).gif\")\n",
    "end"
   ]
  },
  {
   "cell_type": "code",
   "execution_count": 6,
   "metadata": {},
   "outputs": [
    {
     "data": {
      "text/plain": [
       "plot_tree (generic function with 1 method)"
      ]
     },
     "metadata": {},
     "output_type": "display_data"
    }
   ],
   "source": [
    "function plot_tree(name)\n",
    "    lines = readlines(\"./results/$(name).mst\")\n",
    "    \n",
    "    plt = plot(legend = false, title = name, dpi = 300)\n",
    "    for line in lines \n",
    "        x1,y1,x2,y2 = [parse(Int, d) for d in split(line)]\n",
    "        plot!(plt, [x1, x2], [y1, y2], color=\"black\", marker = 2, lw = 1)\n",
    "    end\n",
    "    \n",
    "    png(plt, \"plots/$(name)\")\n",
    "end"
   ]
  },
  {
   "cell_type": "code",
   "execution_count": 4,
   "metadata": {},
   "outputs": [
    {
     "data": {
      "text/plain": [
       "10-element Vector{String}:\n",
       " \"xqf131\"\n",
       " \"xqg237\"\n",
       " \"pma343\"\n",
       " \"pka379\"\n",
       " \"bcl380\"\n",
       " \"pbl395\"\n",
       " \"pbk411\"\n",
       " \"pbn423\"\n",
       " \"pbm436\"\n",
       " \"xql662\""
      ]
     },
     "metadata": {},
     "output_type": "display_data"
    }
   ],
   "source": [
    "names = [\n",
    "    \"xqf131\", \"xqg237\", \"pma343\", \"pka379\", \"bcl380\", \"pbl395\", \"pbk411\", \"pbn423\", \"pbm436\", \"xql662\",\n",
    "]"
   ]
  },
  {
   "cell_type": "code",
   "execution_count": 5,
   "metadata": {},
   "outputs": [
    {
     "name": "stderr",
     "output_type": "stream",
     "text": [
      "┌ Info: Saved animation to /home/dawiderter/Projects/Studies/metaheuristics/tsp/plots/xqf131.gif\n",
      "└ @ Plots /home/dawiderter/.julia/packages/Plots/sxUvK/src/animation.jl:156\n"
     ]
    },
    {
     "name": "stderr",
     "output_type": "stream",
     "text": [
      "┌ Info: Saved animation to /home/dawiderter/Projects/Studies/metaheuristics/tsp/plots/xqg237.gif\n",
      "└ @ Plots /home/dawiderter/.julia/packages/Plots/sxUvK/src/animation.jl:156\n"
     ]
    },
    {
     "name": "stderr",
     "output_type": "stream",
     "text": [
      "┌ Info: Saved animation to /home/dawiderter/Projects/Studies/metaheuristics/tsp/plots/pma343.gif\n",
      "└ @ Plots /home/dawiderter/.julia/packages/Plots/sxUvK/src/animation.jl:156\n"
     ]
    },
    {
     "name": "stderr",
     "output_type": "stream",
     "text": [
      "┌ Info: Saved animation to /home/dawiderter/Projects/Studies/metaheuristics/tsp/plots/pka379.gif\n",
      "└ @ Plots /home/dawiderter/.julia/packages/Plots/sxUvK/src/animation.jl:156\n"
     ]
    },
    {
     "name": "stderr",
     "output_type": "stream",
     "text": [
      "┌ Info: Saved animation to /home/dawiderter/Projects/Studies/metaheuristics/tsp/plots/bcl380.gif\n",
      "└ @ Plots /home/dawiderter/.julia/packages/Plots/sxUvK/src/animation.jl:156\n"
     ]
    },
    {
     "name": "stderr",
     "output_type": "stream",
     "text": [
      "┌ Info: Saved animation to /home/dawiderter/Projects/Studies/metaheuristics/tsp/plots/pbl395.gif\n",
      "└ @ Plots /home/dawiderter/.julia/packages/Plots/sxUvK/src/animation.jl:156\n"
     ]
    },
    {
     "name": "stderr",
     "output_type": "stream",
     "text": [
      "┌ Info: Saved animation to /home/dawiderter/Projects/Studies/metaheuristics/tsp/plots/pbk411.gif\n",
      "└ @ Plots /home/dawiderter/.julia/packages/Plots/sxUvK/src/animation.jl:156\n"
     ]
    },
    {
     "name": "stderr",
     "output_type": "stream",
     "text": [
      "┌ Info: Saved animation to /home/dawiderter/Projects/Studies/metaheuristics/tsp/plots/pbn423.gif\n",
      "└ @ Plots /home/dawiderter/.julia/packages/Plots/sxUvK/src/animation.jl:156\n"
     ]
    },
    {
     "name": "stderr",
     "output_type": "stream",
     "text": [
      "┌ Info: Saved animation to /home/dawiderter/Projects/Studies/metaheuristics/tsp/plots/pbm436.gif\n",
      "└ @ Plots /home/dawiderter/.julia/packages/Plots/sxUvK/src/animation.jl:156\n"
     ]
    },
    {
     "name": "stderr",
     "output_type": "stream",
     "text": [
      "┌ Info: Saved animation to /home/dawiderter/Projects/Studies/metaheuristics/tsp/plots/xql662.gif\n",
      "└ @ Plots /home/dawiderter/.julia/packages/Plots/sxUvK/src/animation.jl:156\n"
     ]
    }
   ],
   "source": [
    "for name in names\n",
    "    animate_cycle(name)\n",
    "end"
   ]
  },
  {
   "cell_type": "code",
   "execution_count": 72,
   "metadata": {},
   "outputs": [],
   "source": [
    "for name in names\n",
    "    plot_tree(name)\n",
    "end"
   ]
  }
 ],
 "metadata": {
  "kernelspec": {
   "display_name": "Julia 1.9.3",
   "language": "julia",
   "name": "julia-1.9"
  },
  "language_info": {
   "file_extension": ".jl",
   "mimetype": "application/julia",
   "name": "julia",
   "version": "1.9.3"
  }
 },
 "nbformat": 4,
 "nbformat_minor": 2
}
